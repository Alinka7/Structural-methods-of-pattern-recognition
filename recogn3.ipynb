{
 "cells": [
  {
   "cell_type": "code",
   "execution_count": 5,
   "id": "05e249dc",
   "metadata": {},
   "outputs": [],
   "source": [
    "import warnings\n",
    "warnings.filterwarnings(\"ignore\")"
   ]
  },
  {
   "cell_type": "code",
   "execution_count": 6,
   "id": "3444ff8d",
   "metadata": {},
   "outputs": [],
   "source": [
    "import cv2\n",
    "import numpy as np"
   ]
  },
  {
   "cell_type": "code",
   "execution_count": 7,
   "id": "f8974aa2",
   "metadata": {},
   "outputs": [],
   "source": [
    "img = cv2.imread(\"lab2.jpeg\", cv2.IMREAD_COLOR)\n",
    "\n",
    "cv2.imshow(\"image\", img)\n",
    "cv2.waitKey(0)\n",
    "cv2.destroyAllWindows()"
   ]
  },
  {
   "cell_type": "markdown",
   "id": "b3c70138",
   "metadata": {},
   "source": [
    "### GREY"
   ]
  },
  {
   "cell_type": "code",
   "execution_count": 8,
   "id": "79619f54",
   "metadata": {
    "scrolled": true
   },
   "outputs": [
    {
     "data": {
      "text/plain": [
       "True"
      ]
     },
     "execution_count": 8,
     "metadata": {},
     "output_type": "execute_result"
    }
   ],
   "source": [
    "average_matrix = (img[:, :, 0] + img[:, :, 1] + img[:, :, 2]) / 3\n",
    "average_matrix = average_matrix.astype(np.uint8)\n",
    "cv2.imshow(\"image\", average_matrix)\n",
    "cv2.waitKey(0)\n",
    "cv2.destroyAllWindows()\n",
    "cv2.imwrite(\"lab2_grey_m.jpeg\", average_matrix)"
   ]
  },
  {
   "cell_type": "code",
   "execution_count": 5,
   "id": "f5e4f552",
   "metadata": {},
   "outputs": [
    {
     "data": {
      "text/plain": [
       "True"
      ]
     },
     "execution_count": 5,
     "metadata": {},
     "output_type": "execute_result"
    }
   ],
   "source": [
    "### To grey\n",
    "\n",
    "imgGr = cv2.imread(\"lab2.jpeg\", cv2.IMREAD_GRAYSCALE)\n",
    "cv2.imshow(\"image\", imgGr)\n",
    "cv2.waitKey(0)\n",
    "cv2.destroyAllWindows()\n",
    "cv2.imwrite(\"lab2_grey.jpeg\", imgGr)"
   ]
  },
  {
   "cell_type": "markdown",
   "id": "017b463e",
   "metadata": {},
   "source": [
    "### COLOR manually"
   ]
  },
  {
   "cell_type": "code",
   "execution_count": 6,
   "id": "01537db5",
   "metadata": {},
   "outputs": [
    {
     "data": {
      "text/plain": [
       "True"
      ]
     },
     "execution_count": 6,
     "metadata": {},
     "output_type": "execute_result"
    }
   ],
   "source": [
    "bl = cv2.imread(\"lab2.jpeg\", cv2.IMREAD_COLOR)\n",
    "bl[:, :, 1:3] = 0\n",
    "cv2.imshow('Blue Channel', bl)\n",
    "cv2.waitKey(0)\n",
    "cv2.imwrite(\"lab2_Blue_m.jpeg\", bl)"
   ]
  },
  {
   "cell_type": "code",
   "execution_count": 7,
   "id": "e5c9256e",
   "metadata": {},
   "outputs": [
    {
     "data": {
      "text/plain": [
       "True"
      ]
     },
     "execution_count": 7,
     "metadata": {},
     "output_type": "execute_result"
    }
   ],
   "source": [
    "gr = cv2.imread(\"lab2.jpeg\", cv2.IMREAD_COLOR)\n",
    "gr[:, :, 2:3] = 0 \n",
    "gr[:, :, 0:1] = 0 \n",
    "cv2.imshow('Green Channel', gr)\n",
    "cv2.waitKey(0)\n",
    "cv2.imwrite(\"lab2_Green_m.jpeg\", gr)"
   ]
  },
  {
   "cell_type": "code",
   "execution_count": 8,
   "id": "f9f7d28b",
   "metadata": {},
   "outputs": [
    {
     "data": {
      "text/plain": [
       "True"
      ]
     },
     "execution_count": 8,
     "metadata": {},
     "output_type": "execute_result"
    }
   ],
   "source": [
    "red = cv2.imread(\"lab2.jpeg\", cv2.IMREAD_COLOR)\n",
    "red[:, :, 0:2] = 0 \n",
    "cv2.imshow('Red Channel', red)\n",
    "cv2.waitKey(0)\n",
    "cv2.imwrite(\"lab2_Red_m.jpeg\", red)"
   ]
  },
  {
   "cell_type": "markdown",
   "id": "620236e6",
   "metadata": {},
   "source": [
    "### COLOR using functions"
   ]
  },
  {
   "cell_type": "code",
   "execution_count": 9,
   "id": "d502ed72",
   "metadata": {},
   "outputs": [],
   "source": [
    "blue,green,red = cv2.split(img)\n",
    "zeros = np.zeros(blue.shape, np.uint8)\n",
    "blueBGR = cv2.merge([blue,zeros,zeros])\n",
    "greenBGR = cv2.merge([zeros,green,zeros])\n",
    "redBGR = cv2.merge([zeros,zeros,red])"
   ]
  },
  {
   "cell_type": "code",
   "execution_count": 10,
   "id": "ebc23467",
   "metadata": {},
   "outputs": [
    {
     "data": {
      "text/plain": [
       "True"
      ]
     },
     "execution_count": 10,
     "metadata": {},
     "output_type": "execute_result"
    }
   ],
   "source": [
    "cv2.imshow('Blue Channel', blueBGR)\n",
    "cv2.waitKey(0)\n",
    "cv2.imwrite(\"lab2_Blue.jpeg\", blueBGR)"
   ]
  },
  {
   "cell_type": "code",
   "execution_count": 11,
   "id": "cead5838",
   "metadata": {},
   "outputs": [
    {
     "data": {
      "text/plain": [
       "True"
      ]
     },
     "execution_count": 11,
     "metadata": {},
     "output_type": "execute_result"
    }
   ],
   "source": [
    "cv2.imshow('Green Channel', greenBGR)\n",
    "cv2.waitKey(0)\n",
    "cv2.imwrite(\"lab2_Green.jpeg\", greenBGR)"
   ]
  },
  {
   "cell_type": "code",
   "execution_count": 12,
   "id": "69e930e3",
   "metadata": {},
   "outputs": [],
   "source": [
    "cv2.imshow('Red Channel', redBGR)\n",
    "cv2.waitKey(0)\n",
    "cv2.imwrite(\"lab2_Red.jpeg\", redBGR)\n",
    "cv2.destroyAllWindows()"
   ]
  },
  {
   "cell_type": "markdown",
   "id": "27bc580a",
   "metadata": {},
   "source": [
    "### інвертування кольорової палітри"
   ]
  },
  {
   "cell_type": "code",
   "execution_count": 13,
   "id": "8c3f714a",
   "metadata": {},
   "outputs": [],
   "source": [
    "img = cv2.imread(\"lab2.jpeg\", cv2.IMREAD_COLOR)\n",
    "imgInvert = 255 - img\n",
    "\n",
    "cv2.imshow(\"imgInvert\", imgInvert)\n",
    "cv2.waitKey(0)\n",
    "cv2.imwrite(\"lab2_imgInvert_m.jpeg\", imgInvert)\n",
    "cv2.destroyAllWindows()\n"
   ]
  },
  {
   "cell_type": "code",
   "execution_count": 14,
   "id": "d79b988f",
   "metadata": {},
   "outputs": [],
   "source": [
    "img = cv2.imread(\"lab2.jpeg\", cv2.IMREAD_COLOR)\n",
    "inverted_img = cv2.bitwise_not(img)\n",
    "\n",
    "cv2.imshow('imgInvert', inverted_img)\n",
    "cv2.waitKey(0)\n",
    "cv2.destroyAllWindows()\n"
   ]
  },
  {
   "cell_type": "markdown",
   "id": "492412b6",
   "metadata": {},
   "source": [
    "### пункт b"
   ]
  },
  {
   "cell_type": "code",
   "execution_count": 15,
   "id": "d0ee19a3",
   "metadata": {
    "scrolled": true
   },
   "outputs": [],
   "source": [
    "img = cv2.imread(\"lab2.jpeg\", cv2.IMREAD_COLOR)\n",
    "img[:, :, 0:1] = img[:, :, 0:1] + 20\n",
    "\n",
    "cv2.imshow(\"ch1\", img)\n",
    "cv2.waitKey(0)\n",
    "cv2.imwrite(\"ch1.jpeg\", img)\n",
    "cv2.destroyAllWindows()"
   ]
  },
  {
   "cell_type": "code",
   "execution_count": 16,
   "id": "0b9ea3c8",
   "metadata": {},
   "outputs": [],
   "source": [
    "img = cv2.imread(\"lab2.jpeg\", cv2.IMREAD_COLOR)\n",
    "img[:, :, 1:2] = img[:, :, 1:2] + 50\n",
    "\n",
    "cv2.imshow(\"ch2\", img)\n",
    "cv2.waitKey(0)\n",
    "cv2.imwrite(\"ch2.jpeg\", img)\n",
    "cv2.destroyAllWindows()"
   ]
  },
  {
   "cell_type": "code",
   "execution_count": 17,
   "id": "970a35a7",
   "metadata": {},
   "outputs": [],
   "source": [
    "img = cv2.imread(\"lab2.jpeg\", cv2.IMREAD_COLOR)\n",
    "img[:, :, 2:3] = img[:, :, 2:3] - 70\n",
    "\n",
    "cv2.imshow(\"ch3\", img)\n",
    "cv2.waitKey(0)\n",
    "cv2.imwrite(\"ch3.jpeg\", img)\n",
    "cv2.destroyAllWindows()"
   ]
  },
  {
   "cell_type": "markdown",
   "id": "95a764e9",
   "metadata": {},
   "source": [
    "### пункт  d - злить ображення"
   ]
  },
  {
   "cell_type": "code",
   "execution_count": 19,
   "id": "be3f378f",
   "metadata": {},
   "outputs": [
    {
     "data": {
      "text/plain": [
       "-1"
      ]
     },
     "execution_count": 19,
     "metadata": {},
     "output_type": "execute_result"
    }
   ],
   "source": [
    "img_1 = cv2.imread(\"p1.jpeg\", cv2.IMREAD_COLOR)\n",
    "img_2 = cv2.imread(\"p2.jpeg\", cv2.IMREAD_COLOR)\n",
    "alpha = 0.6\n",
    "img_3 = alpha* img_1 + (1 - alpha) *img_2\n",
    "cv2.imshow(\"p1\", img_1)\n",
    "cv2.imshow(\"p2\", img_2)\n",
    "cv2.imshow(\"p3\", img_3.astype(np.uint8))\n",
    "cv2.imwrite(\"p3_m.jpeg\", img_3)\n",
    "cv2.waitKey(0)\n",
    "# cv2.destroyAllWindows()"
   ]
  },
  {
   "cell_type": "code",
   "execution_count": 20,
   "id": "999ebbba",
   "metadata": {},
   "outputs": [
    {
     "data": {
      "text/plain": [
       "-1"
      ]
     },
     "execution_count": 20,
     "metadata": {},
     "output_type": "execute_result"
    }
   ],
   "source": [
    "img_1 = cv2.imread(\"p1.jpeg\", cv2.IMREAD_COLOR)\n",
    "img_2 = cv2.imread(\"p2.jpeg\", cv2.IMREAD_COLOR)\n",
    "alpha = 0.6\n",
    "img_3 = cv2.addWeighted(img_1, alpha, img_2, 1-alpha, 0)\n",
    "cv2.imshow(\"p1\", img_1)\n",
    "cv2.imshow(\"p2\", img_2)\n",
    "cv2.imshow(\"p3\", img_3.astype(np.uint8))\n",
    "cv2.imwrite(\"p3.jpeg\", img_3)\n",
    "\n",
    "cv2.waitKey(0)"
   ]
  },
  {
   "cell_type": "code",
   "execution_count": 21,
   "id": "97ee669a",
   "metadata": {},
   "outputs": [],
   "source": [
    "import imageio\n",
    "import time\n",
    "images = []\n",
    "for filename in ['p1.jpeg',  'p3_m.jpeg', 'p2.jpeg']:\n",
    "    images.append(imageio.imread(filename))\n",
    "imageio.mimsave('movie.gif', images, duration = 3)"
   ]
  },
  {
   "cell_type": "markdown",
   "id": "4915b093",
   "metadata": {},
   "source": [
    "### Filters"
   ]
  },
  {
   "cell_type": "markdown",
   "id": "e8fb934b",
   "metadata": {},
   "source": [
    "### MEDIAN"
   ]
  },
  {
   "cell_type": "code",
   "execution_count": 23,
   "id": "d17d9907",
   "metadata": {},
   "outputs": [],
   "source": [
    "img = cv2.imread(\"dog.jpg\", cv2.IMREAD_COLOR)\n",
    "med = cv2.medianBlur(img.astype(np.uint8), 7).astype(np.uint8)\n",
    "cv2.imshow(\"image\", med)\n",
    "cv2.imwrite(\"median.jpeg\", med)\n",
    "cv2.waitKey(0)\n",
    "cv2.destroyAllWindows()"
   ]
  },
  {
   "cell_type": "markdown",
   "id": "a13d4b40",
   "metadata": {},
   "source": [
    "##### manually"
   ]
  },
  {
   "cell_type": "code",
   "execution_count": 24,
   "id": "e9995eaf",
   "metadata": {},
   "outputs": [],
   "source": [
    "img = cv2.imread(\"dog.jpg\", cv2.IMREAD_COLOR)\n",
    "m, n, k = img.shape\n",
    "newIMmg = np.zeros([m, n, k])\n",
    "kernel = 15\n",
    "l = int((kernel - 1)/2)\n",
    "\n",
    "for i in range(l, m-l+1):\n",
    "    for j in range(l, n-l+1):\n",
    "        for K in range(0, k):\n",
    "            part = img[i-l+1:i+l-1, j-l+1:j+l-1, K]\n",
    "            sortRes = np.sort(part.flatten())\n",
    "            pix = sortRes[int((len(sortRes)+1)/2)]\n",
    "            newIMmg[i, j, K]= pix\n",
    "            \n",
    "cv2.imshow(\"image\", newIMmg.astype(np.uint8))\n",
    "cv2.imwrite(\"median_m.jpeg\", med)\n",
    "cv2.waitKey(0)\n",
    "cv2.destroyAllWindows()"
   ]
  },
  {
   "cell_type": "markdown",
   "id": "a95acdc5",
   "metadata": {},
   "source": [
    "### ФІЛЬТР РОЗМИТТЯ"
   ]
  },
  {
   "cell_type": "code",
   "execution_count": 25,
   "id": "805b22f8",
   "metadata": {},
   "outputs": [],
   "source": [
    "img = cv2.imread(\"dog.jpg\", cv2.IMREAD_COLOR)\n",
    "gaussian = cv2.GaussianBlur(img, (7, 7), 0)\n",
    "cv2.imshow(\"image\", gaussian)\n",
    "cv2.imwrite(\"gaussian.jpeg\", gaussian)\n",
    "cv2.waitKey(0)\n",
    "cv2.destroyAllWindows()"
   ]
  },
  {
   "cell_type": "markdown",
   "id": "8c519676",
   "metadata": {},
   "source": [
    "### ФІЛЬТР поліпшення якості "
   ]
  },
  {
   "cell_type": "code",
   "execution_count": 26,
   "id": "d3791418",
   "metadata": {},
   "outputs": [],
   "source": [
    "img = cv2.imread(\"dog.jpg\", cv2.IMREAD_COLOR)\n",
    "kernel = np.array([[-1,-1,-1], [-1,9,-1], [-1,-1,-1]])\n",
    "sharpened = cv2.filter2D(img, -1, kernel)\n",
    "cv2.imshow(\"image\", sharpened)\n",
    "cv2.imwrite(\"sharpened.jpeg\", sharpened)\n",
    "cv2.waitKey(0)\n",
    "cv2.destroyAllWindows()"
   ]
  },
  {
   "cell_type": "markdown",
   "id": "a7abbc67",
   "metadata": {},
   "source": [
    "### ФІЛЬТРИ ерозії та нарощування"
   ]
  },
  {
   "cell_type": "code",
   "execution_count": 27,
   "id": "491b6587",
   "metadata": {},
   "outputs": [],
   "source": [
    "img = cv2.imread(\"dog.jpg\", cv2.IMREAD_COLOR)\n",
    "\n",
    "kernel = np.array([ [0, 0, 1, 0, 0],\n",
    "                    [0, 1, 1, 1, 0],\n",
    "                    [1, 1, 1, 1, 1],\n",
    "                    [0, 1, 1, 1, 0],\n",
    "                    [0, 0, 1, 0, 0] ]).astype(np.uint8)\n",
    "\n",
    "erosion = cv2.erode(img, kernel, iterations=1)\n",
    "cv2.imshow(\"image\", erosion)\n",
    "cv2.imwrite(\"erosion.jpeg\", erosion)\n",
    "cv2.waitKey(0)\n",
    "cv2.destroyAllWindows()"
   ]
  },
  {
   "cell_type": "code",
   "execution_count": 28,
   "id": "b5787799",
   "metadata": {},
   "outputs": [],
   "source": [
    "dilation = cv2.dilate(img, kernel, iterations=1)\n",
    "cv2.imshow(\"image\", dilation)\n",
    "cv2.imwrite(\"dilation.jpeg\", dilation)\n",
    "cv2.waitKey(0)\n",
    "cv2.destroyAllWindows()"
   ]
  },
  {
   "cell_type": "markdown",
   "id": "45cb2e0b",
   "metadata": {},
   "source": [
    "### ФІЛЬТР СОБЕЛЯ\n"
   ]
  },
  {
   "cell_type": "code",
   "execution_count": 31,
   "id": "8d79463f",
   "metadata": {},
   "outputs": [],
   "source": [
    "import cv2\n",
    "import numpy as np\n",
    "img = cv2.imread(\"dog.jpg\", cv2.IMREAD_COLOR)\n",
    "average_matrix = (img[:, :, 0] + img[:, :, 1] + img[:, :, 2]) / 3\n",
    "average_matrix = average_matrix.astype(np.uint8)\n",
    "kernel = np.array([[-1,0,1], [-2,0,2], [-1,0,1]])\n",
    "sobel = cv2.filter2D(average_matrix, -1, kernel)\n",
    "cv2.imshow('sobel', sobel )\n",
    "cv2.imwrite(\"sobel.jpeg\", sobel)\n",
    "cv2.waitKey(0)\n",
    "cv2.destroyAllWindows()"
   ]
  },
  {
   "cell_type": "code",
   "execution_count": null,
   "id": "836af0ec",
   "metadata": {},
   "outputs": [],
   "source": []
  },
  {
   "cell_type": "code",
   "execution_count": null,
   "id": "02e0f6e7",
   "metadata": {},
   "outputs": [],
   "source": []
  }
 ],
 "metadata": {
  "kernelspec": {
   "display_name": "Python 3 (ipykernel)",
   "language": "python",
   "name": "python3"
  },
  "language_info": {
   "codemirror_mode": {
    "name": "ipython",
    "version": 3
   },
   "file_extension": ".py",
   "mimetype": "text/x-python",
   "name": "python",
   "nbconvert_exporter": "python",
   "pygments_lexer": "ipython3",
   "version": "3.8.15"
  }
 },
 "nbformat": 4,
 "nbformat_minor": 5
}

{
 "cells": [
  {
   "cell_type": "code",
   "execution_count": 15,
   "id": "caa9eb7c",
   "metadata": {},
   "outputs": [],
   "source": [
    "import cv2\n",
    "import numpy as np\n",
    "import warnings\n",
    "warnings.filterwarnings(\"ignore\")"
   ]
  },
  {
   "cell_type": "code",
   "execution_count": 19,
   "id": "a34cbfad",
   "metadata": {},
   "outputs": [],
   "source": [
    "img = cv2.imread(\"res/p1.jpeg\", cv2.IMREAD_COLOR)\n",
    "img_height, img_width = img.shape[:2]\n",
    "\n",
    "\n",
    "watermark = cv2.imread(\"test/water.jpg\", cv2.IMREAD_COLOR)\n",
    "watermark = cv2.cvtColor(watermark, cv2.COLOR_BGR2GRAY)\n",
    "_, watermark = cv2.threshold(watermark, 127, 255, cv2.THRESH_BINARY)\n",
    "watermark_height, watermark_width = watermark.shape\n",
    "\n",
    "bit_plane_num=4\n",
    "blue_channel = img[:,:,0]\n",
    "for i in range(img_height):\n",
    "    for j in range(img_width):\n",
    "        watermark_pixel = watermark[i % watermark_height, j % watermark_width]\n",
    "        if watermark_pixel == 0:\n",
    "            blue_channel[i,j] &= ~(1 << bit_plane_num)\n",
    "        else:\n",
    "            blue_channel[i,j] |= (1 << bit_plane_num)\n",
    "newImg = img "
   ]
  },
  {
   "cell_type": "code",
   "execution_count": 20,
   "id": "cf935466",
   "metadata": {},
   "outputs": [],
   "source": [
    "newImg[:,:,0] = blue_channel"
   ]
  },
  {
   "cell_type": "code",
   "execution_count": 21,
   "id": "abe7586e",
   "metadata": {},
   "outputs": [
    {
     "data": {
      "text/plain": [
       "True"
      ]
     },
     "execution_count": 21,
     "metadata": {},
     "output_type": "execute_result"
    }
   ],
   "source": [
    "cv2.imwrite(\"res/test.jpeg\", newImg)"
   ]
  },
  {
   "cell_type": "code",
   "execution_count": null,
   "id": "5250038d",
   "metadata": {},
   "outputs": [],
   "source": []
  },
  {
   "cell_type": "code",
   "execution_count": null,
   "id": "ec22d00b",
   "metadata": {},
   "outputs": [],
   "source": []
  },
  {
   "cell_type": "code",
   "execution_count": null,
   "id": "38a53cdf",
   "metadata": {},
   "outputs": [],
   "source": []
  }
 ],
 "metadata": {
  "kernelspec": {
   "display_name": "Python 3 (ipykernel)",
   "language": "python",
   "name": "python3"
  },
  "language_info": {
   "codemirror_mode": {
    "name": "ipython",
    "version": 3
   },
   "file_extension": ".py",
   "mimetype": "text/x-python",
   "name": "python",
   "nbconvert_exporter": "python",
   "pygments_lexer": "ipython3",
   "version": "3.8.15"
  }
 },
 "nbformat": 4,
 "nbformat_minor": 5
}
